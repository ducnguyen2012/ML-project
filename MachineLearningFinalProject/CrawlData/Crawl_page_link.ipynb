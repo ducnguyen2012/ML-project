{
 "cells": [
  {
   "cell_type": "code",
   "execution_count": 17,
   "metadata": {},
   "outputs": [],
   "source": [
    "\n",
    "from bs4 import BeautifulSoup\n",
    "import requests\n",
    "from time import sleep"
   ]
  },
  {
   "cell_type": "code",
   "execution_count": 18,
   "metadata": {},
   "outputs": [],
   "source": [
    "# executable_path = \"../MyChromeDriver/chromedriver.exe\"\n",
    "# option1 = Options()\n",
    "# option1.add_argument('--disable-notifications')\n",
    "# browser = webdriver.Chrome(executable_path=executable_path,chrome_options=option1)\n",
    "\n",
    "# my_movie = []\n",
    "# my_link_to_get = \"https://myanimelist.net/topanime.php\"\n",
    "# sleep(1) \n",
    "# for i in range(50,101,50):\n",
    "    \n",
    "#     #my_link = browser.get(\"https://myanimelist.net/topanime.php?limit=50\")\n",
    "    \n",
    "#     browser.get(my_link_to_get)\n",
    "#     next_page = browser.find_element_by_link_text(\"Next 50\")\n",
    "#     sleep(1)\n",
    "#     next_page.click()\n",
    "#     sleep(1)\n",
    "#     movie_name = browser.find_element_by_class_name(\"hoverinfo_trigger\")\n",
    "#     my_movie.append(movie_name.text)\n",
    "#     my_link_to_get = \"https://myanimelist.net/topanime.php\"\n",
    "#     my_link_to_get += \"?limit=\"+str(i)\n",
    "# print(my_movie)"
   ]
  },
  {
   "cell_type": "code",
   "execution_count": 19,
   "metadata": {},
   "outputs": [],
   "source": [
    "#! từ url của thông tin phim, trích xuất ra thông tin phim cho vào list\n",
    "url = \"https://myanimelist.net/topanime.php\"\n",
    "page = requests.get(url)\n",
    "soup = BeautifulSoup(page.text,'html')\n",
    "all_movie_link = []\n",
    "#! theo như nghiên cứu ở link https://vi.shaip.com/blog/how-much-training-data-is-enough/ data 5000 là đủ. \n",
    "for i in range(0,5001,50):\n",
    "    page = requests.get(url)\n",
    "    soup = BeautifulSoup(page.text,'html')\n",
    "    url = \"https://myanimelist.net/topanime.php\"\n",
    "    for in4 in soup.find_all('a',href=True): \n",
    "        if 'https://myanimelist.net/anime/' in in4['href']:\n",
    "            all_movie_link.append(in4['href'])    \n",
    "    url = url + \"?limit=\"+str(i)\n",
    "    sleep(1)\n",
    "#! cho hết vào file txt\n",
    "with open(\"./raw_data_movie_link.txt\",'w',encoding='utf8') as file:\n",
    "    for i in all_movie_link:\n",
    "        file.write(i+\"\\n\")\n",
    "\n",
    "#! đoạn này phải quay ra folder Preprocessed data để làm việc "
   ]
  },
  {
   "cell_type": "code",
   "execution_count": null,
   "metadata": {},
   "outputs": [],
   "source": []
  }
 ],
 "metadata": {
  "kernelspec": {
   "display_name": "Python 3",
   "language": "python",
   "name": "python3"
  },
  "language_info": {
   "codemirror_mode": {
    "name": "ipython",
    "version": 3
   },
   "file_extension": ".py",
   "mimetype": "text/x-python",
   "name": "python",
   "nbconvert_exporter": "python",
   "pygments_lexer": "ipython3",
   "version": "3.11.4"
  }
 },
 "nbformat": 4,
 "nbformat_minor": 2
}
