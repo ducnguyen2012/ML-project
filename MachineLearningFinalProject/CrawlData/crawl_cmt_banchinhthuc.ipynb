{
 "cells": [
  {
   "cell_type": "code",
   "execution_count": 1,
   "metadata": {},
   "outputs": [],
   "source": [
    "from bs4 import BeautifulSoup\n",
    "import requests\n",
    "from time import sleep\n",
    "import pandas as pd"
   ]
  },
  {
   "cell_type": "code",
   "execution_count": 2,
   "metadata": {},
   "outputs": [
    {
     "data": {
      "text/plain": [
       "'https://myanimelist.net/anime/season?_location=mal_h_m\\n'"
      ]
     },
     "execution_count": 2,
     "metadata": {},
     "output_type": "execute_result"
    }
   ],
   "source": [
    "#! lấy data đã được xử lý (lúc này phải chạy ipynb trong datapreprocessing) cho vào all_movie_link:\n",
    "all_movie_link = []\n",
    "with open('../DataPreprocessing/processed_movie_link.txt','r',encoding=\"utf8\") as file:\n",
    "    all_movie_link = file.readlines()\n",
    "all_movie_link.pop(0)"
   ]
  },
  {
   "cell_type": "code",
   "execution_count": 3,
   "metadata": {},
   "outputs": [
    {
     "data": {
      "text/plain": [
       "'https://myanimelist.net/anime/5114/Fullmetal_Alchemist__Brotherhood\\n'"
      ]
     },
     "execution_count": 3,
     "metadata": {},
     "output_type": "execute_result"
    }
   ],
   "source": [
    "\n",
    "all_movie_link[1]"
   ]
  },
  {
   "cell_type": "code",
   "execution_count": 4,
   "metadata": {},
   "outputs": [],
   "source": [
    "#! crawl user name ok. Chỉ cần thêm link /reviews ở cuối rồi crawl là oke. làm sạch thì để sau!\n",
    "cnt = 0\n",
    "user_name = []\n",
    "my_user_name =[]\n",
    "post_name = []\n",
    "id = 0\n",
    "\n",
    "\n",
    "film_cmt = []\n",
    "my_user_name = []\n",
    "\n",
    "my_film_name = []\n",
    "#url = \"https://myanimelist.net/anime/5114/Fullmetal_Alchemist__Brotherhood\\n/reviews\"\n",
    "for url in all_movie_link:\n",
    "    url = url.replace('\\n','')\n",
    "    url = url +  \"/reviews\"\n",
    "    my_film_name.append(url)\n",
    "    \n",
    "\n",
    "\n",
    "    page = requests.get(url)\n",
    "    sleep(2)\n",
    "    soup = BeautifulSoup(page.text,'html')\n",
    "    user_name = soup.find_all('a',href=True)\n",
    "    sleep(2)\n",
    "    my_user_name = []\n",
    "    for name in user_name:\n",
    "        if 'https://myanimelist.net/profile/' in name['href']:\n",
    "            temp = name['href']\n",
    "            my_user_name.append(temp)\n",
    "            #print(temp)\n",
    "    film_cmt.append(my_user_name)\n",
    "    cnt += 1\n",
    "    if cnt == 200:\n",
    "        break\n",
    "\n",
    "\n"
   ]
  },
  {
   "cell_type": "code",
   "execution_count": 5,
   "metadata": {},
   "outputs": [],
   "source": [
    "df_user_name = pd.DataFrame({'my_film_cmt': film_cmt})\n",
    "df_user_name.to_csv('./film_cmt_test1.csv')"
   ]
  },
  {
   "cell_type": "code",
   "execution_count": 6,
   "metadata": {},
   "outputs": [
    {
     "name": "stdout",
     "output_type": "stream",
     "text": [
      "['https://myanimelist.net/profile/Hachikawa', 'https://myanimelist.net/profile/Hachikawa', 'https://myanimelist.net/profile/MizuhoKamui', 'https://myanimelist.net/profile/MizuhoKamui']\n"
     ]
    }
   ],
   "source": [
    "#! dòng cần thêm: \n",
    "print(film_cmt[-1])"
   ]
  },
  {
   "cell_type": "code",
   "execution_count": 7,
   "metadata": {},
   "outputs": [
    {
     "name": "stdout",
     "output_type": "stream",
     "text": [
      "200\n"
     ]
    }
   ],
   "source": [
    "#! remove uneseccasy and duplicate\n",
    "new = []\n",
    "new_cmt = []\n",
    "for my_user_name in film_cmt:\n",
    "    for name in my_user_name:\n",
    "        name = name.replace('https://myanimelist.net/profile/','')\n",
    "        new.append(name)\n",
    "    new_cmt.append(new)\n",
    "    new = []\n",
    "#! remove duplicate\n",
    "#print(new_cmt)\n",
    "my_user = []\n",
    "my_user_name = []\n",
    "\n",
    "for new in new_cmt:\n",
    "    for name in new:\n",
    "        if name not in my_user_name:\n",
    "            my_user_name.append(name)\n",
    "    my_user.append(my_user_name)\n",
    "    my_user_name = []\n",
    "print(len(my_user))"
   ]
  },
  {
   "cell_type": "code",
   "execution_count": 8,
   "metadata": {},
   "outputs": [],
   "source": [
    "# my_user[0]"
   ]
  },
  {
   "cell_type": "code",
   "execution_count": 9,
   "metadata": {},
   "outputs": [],
   "source": [
    "#! in ra tên của bộ phim đó bằng với số lượng user_cmt: \n",
    "multiple_post_name = []\n",
    "post_name = []\n",
    "cnt = 0\n",
    "for movie_name in my_film_name:\n",
    "    movie_name = movie_name.replace('https://myanimelist.net/anime/','')\n",
    "    key = movie_name.index('/')\n",
    "    movie_name = movie_name[key+1:-8]\n",
    "    #print(\"my movie name at \"+str(cnt) + movie_name)\n",
    "    for i in range(len(my_user[cnt])):\n",
    "        post_name.append(movie_name)\n",
    "    \n",
    "    cnt += 1\n",
    "    multiple_post_name.append(post_name)\n",
    "    post_name = []\n",
    "    if cnt == 200:\n",
    "        break"
   ]
  },
  {
   "cell_type": "code",
   "execution_count": null,
   "metadata": {},
   "outputs": [],
   "source": []
  },
  {
   "cell_type": "code",
   "execution_count": 10,
   "metadata": {},
   "outputs": [],
   "source": [
    "# multiple_post_name[0]"
   ]
  },
  {
   "cell_type": "code",
   "execution_count": 11,
   "metadata": {},
   "outputs": [],
   "source": [
    "# print(len(multiple_post_name[1]))\n",
    "# print(len(my_user[1]))"
   ]
  },
  {
   "cell_type": "code",
   "execution_count": 12,
   "metadata": {},
   "outputs": [],
   "source": [
    "#! crawl cmt của người review\n",
    "my_cmt = []\n",
    "my_cmt_with_film = []\n",
    "cnt = 0\n",
    "for url in my_film_name:\n",
    "    \n",
    "    page = requests.get(url)\n",
    "    sleep(2)\n",
    "    soup = BeautifulSoup(page.text,'html')\n",
    "    user_cmt = soup.find_all(class_='text')\n",
    "    sleep(2)\n",
    "    for cmt  in user_cmt:\n",
    "        a = cmt.get_text().replace('\\n','')\n",
    "            #print(a)\n",
    "        my_cmt.append(a)\n",
    "    my_cmt_with_film.append(my_cmt)\n",
    "    my_cmt = []\n",
    "    cnt += 1\n",
    "    if cnt == 200:\n",
    "        break"
   ]
  },
  {
   "cell_type": "code",
   "execution_count": 13,
   "metadata": {},
   "outputs": [],
   "source": [
    "# len(my_cmt_with_film)"
   ]
  },
  {
   "cell_type": "code",
   "execution_count": 14,
   "metadata": {},
   "outputs": [],
   "source": [
    "#! ok!\n",
    "#! crawl recommend link của người review\n",
    "my_recommend = []\n",
    "#url = \"https://myanimelist.net/anime/52991/Sousou_no_Frieren/reviews\"\n",
    "my_recommend_film = []\n",
    "cnt = 0\n",
    "for url in my_film_name:\n",
    "    page = requests.get(url)\n",
    "    sleep(2)\n",
    "    soup = BeautifulSoup(page.text,'html')\n",
    "    user_cmt = soup.find_all(class_='tags')\n",
    "    sleep(2)\n",
    "    for cmt in user_cmt:\n",
    "        a = cmt.get_text().replace('\\n','')\n",
    "            #print(a)\n",
    "        my_recommend.append(a)\n",
    "    my_recommend_film.append(my_recommend)\n",
    "    my_recommend = []\n",
    "    cnt += 1\n",
    "    if cnt == 200:\n",
    "        break"
   ]
  },
  {
   "cell_type": "code",
   "execution_count": 15,
   "metadata": {},
   "outputs": [
    {
     "data": {
      "text/plain": [
       "200"
      ]
     },
     "execution_count": 15,
     "metadata": {},
     "output_type": "execute_result"
    }
   ],
   "source": [
    "\n",
    "my_episode = []\n",
    "my_episode_film = []\n",
    "for my_recommend in my_recommend_film:\n",
    "    for cmt in my_recommend:\n",
    "        if \"(\" in cmt:\n",
    "            key = cmt.index(\"(\")\n",
    "            my_episode.append(cmt[key+1:key+9])\n",
    "        else:\n",
    "            my_episode.append(\"done\")\n",
    "    my_episode_film.append(my_episode)\n",
    "    my_episode = []\n",
    "len(my_episode_film)\n"
   ]
  },
  {
   "cell_type": "code",
   "execution_count": 16,
   "metadata": {},
   "outputs": [],
   "source": [
    "#! crawl number of reaction with class num js-num    data-pagename  anime-title-reviews  data-id\n",
    "\n"
   ]
  },
  {
   "cell_type": "code",
   "execution_count": 17,
   "metadata": {},
   "outputs": [],
   "source": [
    "from itertools import chain\n",
    "multiple_post_name = list(chain.from_iterable(multiple_post_name))\n",
    "my_user = list(chain.from_iterable(my_user))\n",
    "my_cmt_with_film = list(chain.from_iterable(my_cmt_with_film))\n",
    "my_recommend_film = list(chain.from_iterable(my_recommend_film))\n",
    "my_episode_film = list(chain.from_iterable(my_episode_film))"
   ]
  },
  {
   "cell_type": "code",
   "execution_count": 18,
   "metadata": {},
   "outputs": [
    {
     "data": {
      "text/plain": [
       "3660"
      ]
     },
     "execution_count": 18,
     "metadata": {},
     "output_type": "execute_result"
    }
   ],
   "source": [
    "len(multiple_post_name)"
   ]
  },
  {
   "cell_type": "code",
   "execution_count": 19,
   "metadata": {},
   "outputs": [
    {
     "data": {
      "text/plain": [
       "3660"
      ]
     },
     "execution_count": 19,
     "metadata": {},
     "output_type": "execute_result"
    }
   ],
   "source": [
    "len(my_user)"
   ]
  },
  {
   "cell_type": "code",
   "execution_count": 20,
   "metadata": {},
   "outputs": [
    {
     "data": {
      "text/plain": [
       "3660"
      ]
     },
     "execution_count": 20,
     "metadata": {},
     "output_type": "execute_result"
    }
   ],
   "source": [
    "len(my_cmt_with_film)"
   ]
  },
  {
   "cell_type": "code",
   "execution_count": 21,
   "metadata": {},
   "outputs": [
    {
     "data": {
      "text/plain": [
       "3660"
      ]
     },
     "execution_count": 21,
     "metadata": {},
     "output_type": "execute_result"
    }
   ],
   "source": [
    "len(my_recommend_film)"
   ]
  },
  {
   "cell_type": "code",
   "execution_count": 22,
   "metadata": {},
   "outputs": [
    {
     "data": {
      "text/plain": [
       "3660"
      ]
     },
     "execution_count": 22,
     "metadata": {},
     "output_type": "execute_result"
    }
   ],
   "source": [
    "len(my_episode_film)"
   ]
  },
  {
   "cell_type": "code",
   "execution_count": 23,
   "metadata": {},
   "outputs": [
    {
     "data": {
      "text/html": [
       "<div>\n",
       "<style scoped>\n",
       "    .dataframe tbody tr th:only-of-type {\n",
       "        vertical-align: middle;\n",
       "    }\n",
       "\n",
       "    .dataframe tbody tr th {\n",
       "        vertical-align: top;\n",
       "    }\n",
       "\n",
       "    .dataframe thead th {\n",
       "        text-align: right;\n",
       "    }\n",
       "</style>\n",
       "<table border=\"1\" class=\"dataframe\">\n",
       "  <thead>\n",
       "    <tr style=\"text-align: right;\">\n",
       "      <th></th>\n",
       "      <th>Post name</th>\n",
       "      <th>Username</th>\n",
       "      <th>Comment</th>\n",
       "      <th>User feeling</th>\n",
       "      <th>user_see_episode</th>\n",
       "    </tr>\n",
       "  </thead>\n",
       "  <tbody>\n",
       "    <tr>\n",
       "      <th>0</th>\n",
       "      <td>Sousou_no_Frieren</td>\n",
       "      <td>Czekaj</td>\n",
       "      <td>With lives so short, why do we...</td>\n",
       "      <td>RecommendedPreliminary                        ...</td>\n",
       "      <td>5/28 eps</td>\n",
       "    </tr>\n",
       "    <tr>\n",
       "      <th>1</th>\n",
       "      <td>Sousou_no_Frieren</td>\n",
       "      <td>Shyra_</td>\n",
       "      <td>Frieren is the most overrated ...</td>\n",
       "      <td>Not RecommendedFunnyPreliminary               ...</td>\n",
       "      <td>3/28 eps</td>\n",
       "    </tr>\n",
       "    <tr>\n",
       "      <th>2</th>\n",
       "      <td>Sousou_no_Frieren</td>\n",
       "      <td>chekkit</td>\n",
       "      <td>I feel so catered to.\\rIt feel...</td>\n",
       "      <td>Recommended</td>\n",
       "      <td>done</td>\n",
       "    </tr>\n",
       "    <tr>\n",
       "      <th>3</th>\n",
       "      <td>Sousou_no_Frieren</td>\n",
       "      <td>Trikkiez</td>\n",
       "      <td>Style-\\rFrieren doesn't have i...</td>\n",
       "      <td>Not RecommendedFunny</td>\n",
       "      <td>done</td>\n",
       "    </tr>\n",
       "    <tr>\n",
       "      <th>4</th>\n",
       "      <td>Sousou_no_Frieren</td>\n",
       "      <td>TheRealist68</td>\n",
       "      <td>Through 3 episodes, Frieren ap...</td>\n",
       "      <td>Mixed FeelingsPreliminary                     ...</td>\n",
       "      <td>6/28 eps</td>\n",
       "    </tr>\n",
       "    <tr>\n",
       "      <th>...</th>\n",
       "      <td>...</td>\n",
       "      <td>...</td>\n",
       "      <td>...</td>\n",
       "      <td>...</td>\n",
       "      <td>...</td>\n",
       "    </tr>\n",
       "    <tr>\n",
       "      <th>3655</th>\n",
       "      <td>Kimetsu_no_Yaiba__Mugen_Ressha-hen</td>\n",
       "      <td>CyberXane</td>\n",
       "      <td>I hate rating this a 10 becaus...</td>\n",
       "      <td>Recommended</td>\n",
       "      <td>done</td>\n",
       "    </tr>\n",
       "    <tr>\n",
       "      <th>3656</th>\n",
       "      <td>Kimetsu_no_Yaiba__Mugen_Ressha-hen</td>\n",
       "      <td>meg_lowde</td>\n",
       "      <td>This season is literally just ...</td>\n",
       "      <td>Mixed Feelings</td>\n",
       "      <td>done</td>\n",
       "    </tr>\n",
       "    <tr>\n",
       "      <th>3657</th>\n",
       "      <td>Kimetsu_no_Yaiba__Mugen_Ressha-hen</td>\n",
       "      <td>Typo_comma</td>\n",
       "      <td>I am more concerned about the ...</td>\n",
       "      <td>Recommended</td>\n",
       "      <td>done</td>\n",
       "    </tr>\n",
       "    <tr>\n",
       "      <th>3658</th>\n",
       "      <td>Made_in_Abyss_Movie_2__Hourou_Suru_Tasogare</td>\n",
       "      <td>Hachikawa</td>\n",
       "      <td>Made in Abyss is a spectacular...</td>\n",
       "      <td>Recommended</td>\n",
       "      <td>done</td>\n",
       "    </tr>\n",
       "    <tr>\n",
       "      <th>3659</th>\n",
       "      <td>Made_in_Abyss_Movie_2__Hourou_Suru_Tasogare</td>\n",
       "      <td>MizuhoKamui</td>\n",
       "      <td>The movie assumes you're famil...</td>\n",
       "      <td>Mixed Feelings</td>\n",
       "      <td>done</td>\n",
       "    </tr>\n",
       "  </tbody>\n",
       "</table>\n",
       "<p>3660 rows × 5 columns</p>\n",
       "</div>"
      ],
      "text/plain": [
       "                                        Post name      Username  \\\n",
       "0                               Sousou_no_Frieren        Czekaj   \n",
       "1                               Sousou_no_Frieren        Shyra_   \n",
       "2                               Sousou_no_Frieren       chekkit   \n",
       "3                               Sousou_no_Frieren      Trikkiez   \n",
       "4                               Sousou_no_Frieren  TheRealist68   \n",
       "...                                           ...           ...   \n",
       "3655           Kimetsu_no_Yaiba__Mugen_Ressha-hen     CyberXane   \n",
       "3656           Kimetsu_no_Yaiba__Mugen_Ressha-hen     meg_lowde   \n",
       "3657           Kimetsu_no_Yaiba__Mugen_Ressha-hen    Typo_comma   \n",
       "3658  Made_in_Abyss_Movie_2__Hourou_Suru_Tasogare     Hachikawa   \n",
       "3659  Made_in_Abyss_Movie_2__Hourou_Suru_Tasogare   MizuhoKamui   \n",
       "\n",
       "                                                Comment  \\\n",
       "0                     With lives so short, why do we...   \n",
       "1                     Frieren is the most overrated ...   \n",
       "2                     I feel so catered to.\\rIt feel...   \n",
       "3                     Style-\\rFrieren doesn't have i...   \n",
       "4                     Through 3 episodes, Frieren ap...   \n",
       "...                                                 ...   \n",
       "3655                  I hate rating this a 10 becaus...   \n",
       "3656                  This season is literally just ...   \n",
       "3657                  I am more concerned about the ...   \n",
       "3658                  Made in Abyss is a spectacular...   \n",
       "3659                  The movie assumes you're famil...   \n",
       "\n",
       "                                           User feeling user_see_episode  \n",
       "0     RecommendedPreliminary                        ...         5/28 eps  \n",
       "1     Not RecommendedFunnyPreliminary               ...         3/28 eps  \n",
       "2                                           Recommended             done  \n",
       "3                                  Not RecommendedFunny             done  \n",
       "4     Mixed FeelingsPreliminary                     ...         6/28 eps  \n",
       "...                                                 ...              ...  \n",
       "3655                                        Recommended             done  \n",
       "3656                                     Mixed Feelings             done  \n",
       "3657                                        Recommended             done  \n",
       "3658                                        Recommended             done  \n",
       "3659                                     Mixed Feelings             done  \n",
       "\n",
       "[3660 rows x 5 columns]"
      ]
     },
     "execution_count": 23,
     "metadata": {},
     "output_type": "execute_result"
    }
   ],
   "source": [
    "#! append hết toàn bộ data vào csv dạng: username - comment\n",
    "#! cho thêm một trường là post name\n",
    "\n",
    "df_cmt = pd.DataFrame({'Post name': multiple_post_name,'Username': my_user,'Comment':my_cmt_with_film,'User feeling': my_recommend_film,'user_see_episode': my_episode_film})\n",
    "df_cmt"
   ]
  },
  {
   "cell_type": "code",
   "execution_count": 24,
   "metadata": {},
   "outputs": [],
   "source": [
    "df_cmt.to_csv('./my_post_name_and_cmt')"
   ]
  },
  {
   "cell_type": "code",
   "execution_count": 2,
   "metadata": {},
   "outputs": [
    {
     "data": {
      "text/html": [
       "<div>\n",
       "<style scoped>\n",
       "    .dataframe tbody tr th:only-of-type {\n",
       "        vertical-align: middle;\n",
       "    }\n",
       "\n",
       "    .dataframe tbody tr th {\n",
       "        vertical-align: top;\n",
       "    }\n",
       "\n",
       "    .dataframe thead th {\n",
       "        text-align: right;\n",
       "    }\n",
       "</style>\n",
       "<table border=\"1\" class=\"dataframe\">\n",
       "  <thead>\n",
       "    <tr style=\"text-align: right;\">\n",
       "      <th></th>\n",
       "      <th>Unnamed: 0</th>\n",
       "      <th>Post name</th>\n",
       "      <th>Username</th>\n",
       "      <th>Comment</th>\n",
       "      <th>User feeling</th>\n",
       "      <th>user_see_episode</th>\n",
       "    </tr>\n",
       "  </thead>\n",
       "  <tbody>\n",
       "    <tr>\n",
       "      <th>0</th>\n",
       "      <td>0</td>\n",
       "      <td>Sousou_no_Frieren</td>\n",
       "      <td>Czekaj</td>\n",
       "      <td>With lives so short, why do we...</td>\n",
       "      <td>RecommendedPreliminary                        ...</td>\n",
       "      <td>5/28 eps</td>\n",
       "    </tr>\n",
       "    <tr>\n",
       "      <th>1</th>\n",
       "      <td>1</td>\n",
       "      <td>Sousou_no_Frieren</td>\n",
       "      <td>Shyra_</td>\n",
       "      <td>Frieren is the most overrated ...</td>\n",
       "      <td>Not RecommendedFunnyPreliminary               ...</td>\n",
       "      <td>3/28 eps</td>\n",
       "    </tr>\n",
       "    <tr>\n",
       "      <th>2</th>\n",
       "      <td>2</td>\n",
       "      <td>Sousou_no_Frieren</td>\n",
       "      <td>chekkit</td>\n",
       "      <td>I feel so catered to.\\rIt feel...</td>\n",
       "      <td>Recommended</td>\n",
       "      <td>done</td>\n",
       "    </tr>\n",
       "  </tbody>\n",
       "</table>\n",
       "</div>"
      ],
      "text/plain": [
       "   Unnamed: 0          Post name Username  \\\n",
       "0           0  Sousou_no_Frieren   Czekaj   \n",
       "1           1  Sousou_no_Frieren   Shyra_   \n",
       "2           2  Sousou_no_Frieren  chekkit   \n",
       "\n",
       "                                             Comment  \\\n",
       "0                  With lives so short, why do we...   \n",
       "1                  Frieren is the most overrated ...   \n",
       "2                  I feel so catered to.\\rIt feel...   \n",
       "\n",
       "                                        User feeling user_see_episode  \n",
       "0  RecommendedPreliminary                        ...         5/28 eps  \n",
       "1  Not RecommendedFunnyPreliminary               ...         3/28 eps  \n",
       "2                                        Recommended             done  "
      ]
     },
     "execution_count": 2,
     "metadata": {},
     "output_type": "execute_result"
    }
   ],
   "source": [
    "df_cmt = pd.read_csv('./my_post_name_and_cmt.csv')\n",
    "df_cmt.head(3)"
   ]
  },
  {
   "cell_type": "code",
   "execution_count": null,
   "metadata": {},
   "outputs": [],
   "source": []
  }
 ],
 "metadata": {
  "kernelspec": {
   "display_name": "Python 3",
   "language": "python",
   "name": "python3"
  },
  "language_info": {
   "codemirror_mode": {
    "name": "ipython",
    "version": 3
   },
   "file_extension": ".py",
   "mimetype": "text/x-python",
   "name": "python",
   "nbconvert_exporter": "python",
   "pygments_lexer": "ipython3",
   "version": "3.11.4"
  }
 },
 "nbformat": 4,
 "nbformat_minor": 2
}
